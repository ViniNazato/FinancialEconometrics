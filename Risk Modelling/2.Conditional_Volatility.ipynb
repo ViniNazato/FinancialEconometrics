{
 "cells": [
  {
   "cell_type": "markdown",
   "metadata": {},
   "source": [
    "# Modelagem do Risco\n",
    "## 2. Variância Condicional"
   ]
  },
  {
   "cell_type": "markdown",
   "metadata": {},
   "source": [
    "Imports de Bibliotecas Básicas:"
   ]
  },
  {
   "cell_type": "code",
   "execution_count": 6,
   "metadata": {},
   "outputs": [],
   "source": [
    "import pandas as pd\n",
    "import numpy as np\n",
    "import matplotlib.pyplot as plt\n",
    "import scipy.stats as stats"
   ]
  },
  {
   "cell_type": "markdown",
   "metadata": {},
   "source": [
    "Modelos de variância condicional surgiram na literatura para levar em conta as características empíricas da volatilidade de retornos financeiros. Nos modelos econométricos convencionais, assume-se que a variância da série de preços é constante. No entanto, como visto no primeiro notebook desta série, a maior parte das séries temporais econômicas-financeiras exibem períodos de alta volatilidade seguidos por períodos de baixa volatilidade. Nessas circunstâncias, a suposição de variância constante ou **homocedasticidade** é inadequada. \n",
    "\n",
    "Como visto anteriormente no notebook 1, dados de retornos são estacionários e não correlacionados. No entanto os retornos *ao quadrado* tem correlação serial. Essa autocorrelação nos resíduos foram inicialmente modeladas por Engle (1982) com a introdução do modelo ARCH:\n",
    "*AutorRegressive Conditional Heteroskedasticity*.\n",
    "\n",
    "Pelo fato de já termos observado as principais caracteísticas dos retornos, muitos conceitos aqui descritos decorrerão naturalmente. A grande contribuição de Engle foi propor um modelo para volatilidade condicional que utiliza da volatilidade condicional passada como parâmetro autoregressivo. Desta forma, considere o processo gerador dos retornos como:\n",
    "\n",
    "$$ r_t = \\varepsilon_t \\sigma_t$$\n",
    "\n",
    "Onde $\\varepsilon_t$ ~ RB(0,1) e  $\\sigma_t$ é a volatilidade observada no período t. O modelo ARCH(q) de Engle definido por:\n",
    "\n",
    "$$\\sigma_t^2 = \\omega + \\sum_{i=0}^p \\alpha_i r_{t-i}^2 $$\n",
    "\n",
    "Dessa forma, o modelo assume que variância condicional é uma função linear dos retornos ao quadrado dos $p$ períodos anteriores.\n",
    "\n",
    "Neste caso, pelas propriedades dos retornos, sabemos que o valor esperado de $r_t$ será 0 e sua variância não condicional será $E(r_t^2)$. Desta forma, se $E(\\varepsilon_t)=0$, dado que $\\varepsilon_t$ ~ RB(0,1), temos que a esperança de $r_t$ é definido por:\n",
    "\n",
    "$$E(r_t) = E(\\varepsilon_t) \\sigma_t = 0$$\n",
    "\n",
    "Neste caso, pela lei das expectativas iteradas, sabemos que tanto a média condicional como não condicional serão iguais a 0. Isso indica um fenômeno interessante se os retornos epserados são iguais a zero, isso significa que a hipótese do mercado eficiente se mantém e por isso:\n",
    "$$ \\Rightarrow E(P_{t+k} | P_t) = P_t$$\n",
    "\n",
    "A seguir, seguirão as derivações das variâncias condicional e não condicional do modelo: Lembre-se que o nosso interesse é modelar a variância condicional do processo gerados dos retornos, onde nesse caso a variância não condicional será equivalente a variância amostral que obtivermos da amostra que estivermos analisando.\n",
    "\n",
    "####  Variância Condicional\n",
    "\n",
    "Para fins de simplificação, considere um modelo ARCH(1) tal que:\n",
    "\n",
    "$$\n",
    "r_t = \\varepsilon_t \\sigma_t\\\\\n",
    "\\sigma_t^2 = \\omega + \\alpha r_{t-1}^2\n",
    "$$\n",
    "\n",
    "Sendo $I_t$ a informação que chega ao mercado. A Variância condicional será definida como:\n",
    "\n",
    "$$\n",
    "Var(r_t | I_t) = E(\\varepsilon_t^2)  \\sigma_t^2\\\\\n",
    "Var(r_t | I_t) = \\sigma_t^2\\\\\n",
    "Var(r_t | I_t) = \\sigma_t^2 = \\omega + \\alpha r_{t-1}^2\\\\\n",
    "$$\n",
    "\n",
    "#### Variância Não Condicional \n",
    "\n",
    "Utilizando da Lei das Expectativas iteradas, podemos definir a variância não condicional do modelo como:\n",
    "$$\n",
    "Var(r_t) = E(E(r_t^2)) = E(E(\\varepsilon_t^2) \\sigma_t^2) = E(\\sigma_t^2)\\\\\n",
    "E(\\sigma_t^2) = \\omega + \\alpha E(r_{t-1}^2)\\\\\n",
    "\\bar{\\sigma}^2 =\\omega + \\alpha \\bar{\\sigma}^2\\\\\n",
    "\\bar{\\sigma}^2 = \\frac{\\omega}{(1-\\alpha)}\n",
    "$$\n",
    "\n"
   ]
  },
  {
   "cell_type": "markdown",
   "metadata": {},
   "source": [
    "As opposed to a usual autoregression, the coefficients 𝛼0 and 𝛼1 have to be restricted. In order to ensure that the conditional variance is never negative, it is necessary to assume that both 𝛼0 and 𝛼1 are positive.\n",
    "\n",
    "After\n",
    "all, if 𝛼0 is negative, a sufficiently small realization of 𝜀t−1 will mean that (3.6) is negative. Similarly, if 𝛼1 is negative, a sufficiently large realization of 𝜀t−1 can render a\n",
    "negative value for the conditional variance. Moreover, to ensure the stability of the\n",
    "process, it is necessary to restrict 𝛼1 such that 0 ≤ 𝛼1 ≤ 1.\n",
    "\n",
    "The key point is that the errors are not independent since they are\n",
    "related through their second moment (recall that correlation is a linear relationship).\n",
    "The conditional variance itself is an autoregressive process resulting in conditionally\n",
    "heteroskedastic errors"
   ]
  }
 ],
 "metadata": {
  "kernelspec": {
   "display_name": ".venv",
   "language": "python",
   "name": "python3"
  },
  "language_info": {
   "codemirror_mode": {
    "name": "ipython",
    "version": 3
   },
   "file_extension": ".py",
   "mimetype": "text/x-python",
   "name": "python",
   "nbconvert_exporter": "python",
   "pygments_lexer": "ipython3",
   "version": "3.10.9"
  }
 },
 "nbformat": 4,
 "nbformat_minor": 2
}
