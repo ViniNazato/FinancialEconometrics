{
 "cells": [
  {
   "cell_type": "code",
   "execution_count": null,
   "metadata": {},
   "outputs": [],
   "source": [
    "VaRGarch5 = np.mean(r_sim) + stats.norm.ppf(0.05)*res_arch.conditional_volatility\n",
    "\n",
    "plt.figure(figsize=(15, 6))\n",
    "plt.plot(r_sim, c='k', lw=1)\n",
    "plt.plot(VaRGarch5, c='red',lw=1)\n",
    "plt.grid(True)\n",
    "plt.tight_layout()"
   ]
  }
 ],
 "metadata": {
  "kernelspec": {
   "display_name": ".venv",
   "language": "python",
   "name": "python3"
  },
  "language_info": {
   "codemirror_mode": {
    "name": "ipython",
    "version": 3
   },
   "file_extension": ".py",
   "mimetype": "text/x-python",
   "name": "python",
   "nbconvert_exporter": "python",
   "pygments_lexer": "ipython3",
   "version": "3.10.9"
  }
 },
 "nbformat": 4,
 "nbformat_minor": 2
}
